{
 "cells": [
  {
   "cell_type": "markdown",
   "id": "94dd400f",
   "metadata": {},
   "source": [
    "# String Slicing Part 1"
   ]
  },
  {
   "cell_type": "code",
   "execution_count": null,
   "id": "f8d77453",
   "metadata": {},
   "outputs": [],
   "source": [
    "name = \"Syed Anas Ahmed\"\n",
    "Age = 20\n",
    "print(f'My name is: {name} and My Age is: {Age}.')"
   ]
  },
  {
   "cell_type": "code",
   "execution_count": null,
   "id": "5587a0c3",
   "metadata": {},
   "outputs": [],
   "source": [
    "a = \"Python\"\n",
    "print(a[0:3])"
   ]
  },
  {
   "cell_type": "code",
   "execution_count": null,
   "id": "dd29a628",
   "metadata": {},
   "outputs": [],
   "source": [
    "a = \"Hello\"\n",
    "print(a[2:5])"
   ]
  },
  {
   "cell_type": "code",
   "execution_count": null,
   "id": "2569e18c",
   "metadata": {},
   "outputs": [],
   "source": [
    "a = \"Hello World!\"\n",
    "print(a[0:11:3])"
   ]
  },
  {
   "cell_type": "code",
   "execution_count": null,
   "id": "8b8aad1e",
   "metadata": {},
   "outputs": [],
   "source": [
    "Value = input(\"Enter A value Here: \")\n",
    "Start = int(input(\"Enter a Starting index Value: \"))\n",
    "Last = int(input(\"Enter A last Index Value: \"))\n",
    "print(f'This iS the User Value: {Value}' )\n",
    "print(f'This iS the User Starting index Value: {Start}' )\n",
    "print(f'This iS the User Last index Value: {Last}' )\n",
    "print(f'This is the Output: {Value[Start-1:Last-1]}')"
   ]
  }
 ],
 "metadata": {
  "kernelspec": {
   "display_name": "Python 3",
   "language": "python",
   "name": "python3"
  },
  "language_info": {
   "codemirror_mode": {
    "name": "ipython",
    "version": 3
   },
   "file_extension": ".py",
   "mimetype": "text/x-python",
   "name": "python",
   "nbconvert_exporter": "python",
   "pygments_lexer": "ipython3",
   "version": "3.13.5"
  }
 },
 "nbformat": 4,
 "nbformat_minor": 5
}
