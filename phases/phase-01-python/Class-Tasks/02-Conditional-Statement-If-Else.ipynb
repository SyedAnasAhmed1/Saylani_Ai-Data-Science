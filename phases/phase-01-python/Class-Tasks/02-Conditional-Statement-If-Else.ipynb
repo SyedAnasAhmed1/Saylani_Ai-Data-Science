{
 "cells": [
  {
   "cell_type": "markdown",
   "id": "01fff6b7",
   "metadata": {},
   "source": [
    "## Class Tasks : Conditional Statements (if-else)"
   ]
  },
  {
   "cell_type": "markdown",
   "id": "7dbdffe1",
   "metadata": {},
   "source": [
    "- Name: Syed Anas  Ahmed                                                                                                                                    \n",
    "- Roll No : AI-479872                                                                                                                                   \n",
    "- Course : Ai and Data Science"
   ]
  },
  {
   "cell_type": "markdown",
   "id": "8c70df54",
   "metadata": {},
   "source": [
    "# Task "
   ]
  },
  {
   "cell_type": "markdown",
   "id": "3c96e704",
   "metadata": {},
   "source": [
    "#### Student Task 1 — Age Category (Print 'Child' if age < 18 else 'Adult')"
   ]
  },
  {
   "cell_type": "code",
   "execution_count": 1,
   "id": "d6a42855",
   "metadata": {},
   "outputs": [
    {
     "name": "stdout",
     "output_type": "stream",
     "text": [
      "Adult\n"
     ]
    }
   ],
   "source": [
    "age = int(input(\"Enter A Age: \"))\n",
    "if age <= 18 :\n",
    "    print(\"Child\")\n",
    "else:\n",
    "    print(\"Adult\")"
   ]
  },
  {
   "cell_type": "markdown",
   "id": "13bf9423",
   "metadata": {},
   "source": [
    "#### Student Task 2 — Temperature Check (Print \"It's hot.\" if temperature > 30 else \"It's cool.\")"
   ]
  },
  {
   "cell_type": "code",
   "execution_count": 2,
   "id": "4d17e491",
   "metadata": {},
   "outputs": [
    {
     "name": "stdout",
     "output_type": "stream",
     "text": [
      "It's Cool\n"
     ]
    }
   ],
   "source": [
    "temperature = float(input(\"Enter A Age: \"))\n",
    "if temperature >=30  :\n",
    "    print(\"It;s Hot\")\n",
    "else:\n",
    "    print(\"It's Cool\")"
   ]
  },
  {
   "cell_type": "markdown",
   "id": "66d40edb",
   "metadata": {},
   "source": [
    "#### Student Task 3 — Divisible by 5 (Print 'Divisible by 5' or 'Not divisible by 5')"
   ]
  },
  {
   "cell_type": "code",
   "execution_count": 3,
   "id": "f93abde4",
   "metadata": {},
   "outputs": [
    {
     "name": "stdout",
     "output_type": "stream",
     "text": [
      "Num is Divisible By 5\n"
     ]
    }
   ],
   "source": [
    "num = int(input(\"Enter A number: \"))\n",
    "if num % 5 ==0:\n",
    "    print(\"Num is Divisible By 5\")\n",
    "else:\n",
    "    print(\"Num is not Divisible by 5\")"
   ]
  },
  {
   "cell_type": "markdown",
   "id": "1a4a55a0",
   "metadata": {},
   "source": [
    "#### Student Task 4 — Positive or Negative (Print 'Positive' if >0 else 'Negative or Zero')"
   ]
  },
  {
   "cell_type": "code",
   "execution_count": 4,
   "id": "8a389793",
   "metadata": {},
   "outputs": [
    {
     "name": "stdout",
     "output_type": "stream",
     "text": [
      "Negative\n"
     ]
    }
   ],
   "source": [
    "num = int(input(\"Enter Your Marks: \"))\n",
    "if num > 0 :\n",
    "    print(\"Possitive\")\n",
    "else:\n",
    "    print(\"Negative\")"
   ]
  }
 ],
 "metadata": {
  "kernelspec": {
   "display_name": "Python 3",
   "language": "python",
   "name": "python3"
  },
  "language_info": {
   "codemirror_mode": {
    "name": "ipython",
    "version": 3
   },
   "file_extension": ".py",
   "mimetype": "text/x-python",
   "name": "python",
   "nbconvert_exporter": "python",
   "pygments_lexer": "ipython3",
   "version": "3.13.5"
  }
 },
 "nbformat": 4,
 "nbformat_minor": 5
}
