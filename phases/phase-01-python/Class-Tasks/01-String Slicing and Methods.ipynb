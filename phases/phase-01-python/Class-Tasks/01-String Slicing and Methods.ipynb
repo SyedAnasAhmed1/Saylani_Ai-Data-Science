{
 "cells": [
  {
   "cell_type": "markdown",
   "id": "41257fe0",
   "metadata": {},
   "source": [
    "## Class Tasks : String Slicing and methods"
   ]
  },
  {
   "cell_type": "markdown",
   "id": "dc36c41c",
   "metadata": {},
   "source": [
    "- Name: Syed Anas  Ahmed                                                                                                                                    \n",
    "- Roll No : AI-479872                                                                                                                                   \n",
    "- Course : Ai and Data Science"
   ]
  },
  {
   "cell_type": "markdown",
   "id": "5dcbcd8d",
   "metadata": {},
   "source": [
    "## Tasks"
   ]
  },
  {
   "cell_type": "markdown",
   "id": "4c158aab",
   "metadata": {},
   "source": [
    "#### Task 1: Write a program that takes a string as input and prints it in: - all lowercase - all uppercase - with only the first letter capitalized"
   ]
  },
  {
   "cell_type": "code",
   "execution_count": null,
   "id": "de4d2982",
   "metadata": {},
   "outputs": [],
   "source": [
    "a = input(\"Enter a string: \")\n",
    "print(f'This is The User Input Value: {a}')\n",
    "print(\"---------------------\")\n",
    "print(f'Lower Case: {a.lower()}')\n",
    "print(f'Upper Case: {a.upper()}')\n",
    "print(f'Capitalized: {a.capitalize()}')"
   ]
  },
  {
   "cell_type": "markdown",
   "id": "a56399a2",
   "metadata": {},
   "source": [
    "#### Task 2: Ask the user to enter a sentence. Count how many times the word 'the' appears in it."
   ]
  },
  {
   "cell_type": "code",
   "execution_count": null,
   "id": "31f505ab",
   "metadata": {},
   "outputs": [],
   "source": [
    "Value = input(\"Enter the string here: \")\n",
    "print(f'This is the user Input Value: {Value}')\n",
    "print(f\"The word 'the' appears {Value.count('the')} times.\")"
   ]
  },
  {
   "cell_type": "markdown",
   "id": "db2830f9",
   "metadata": {},
   "source": [
    "#### Task 3: Take a string input from the user and: - Remove leading and trailing spaces - Replace all spaces between words with a hyphen (-)"
   ]
  },
  {
   "cell_type": "code",
   "execution_count": null,
   "id": "ddca51e2",
   "metadata": {},
   "outputs": [],
   "source": [
    "x = input(\"Enter the string here: \")\n",
    "print(\"This is the user input value:\",x)\n",
    "print(f'This is the output: {x.replace(' ','-')}')"
   ]
  },
  {
   "cell_type": "markdown",
   "id": "8ed86a29",
   "metadata": {},
   "source": [
    "#### Task 4: Write a program that checks if a given string starts with 'Hello' and ends with 'World'"
   ]
  },
  {
   "cell_type": "code",
   "execution_count": null,
   "id": "9ccbe19a",
   "metadata": {},
   "outputs": [],
   "source": [
    "x = input(\"Enter the string here: \")\n",
    "print(\"This is the user input value:\",x)\n",
    "print(f'This is the output: {x.endswith('World')}')"
   ]
  },
  {
   "cell_type": "markdown",
   "id": "80fede9b",
   "metadata": {},
   "source": [
    "#### Task 5: Take a string 'banana' and count how many times 'a' appears in it."
   ]
  },
  {
   "cell_type": "code",
   "execution_count": null,
   "id": "eaace14d",
   "metadata": {},
   "outputs": [],
   "source": [
    "fruit = 'banana'\n",
    "print(f\"The 'a' appears in 'banana' is {fruit.count('a')} times.\")"
   ]
  },
  {
   "cell_type": "markdown",
   "id": "29ae572b",
   "metadata": {},
   "source": [
    "#### Task 6: Write a program that splits a sentence into words and prints each word on a new line"
   ]
  },
  {
   "cell_type": "code",
   "execution_count": null,
   "id": "05c14559",
   "metadata": {},
   "outputs": [],
   "source": [
    "sentence = \"This is a simple sentence to test the program.\"\n",
    "words_list = sentence.split()\n",
    "result_string = '\\n'.join(words_list)\n",
    "print(result_string)"
   ]
  },
  {
   "cell_type": "markdown",
   "id": "a7668ae9",
   "metadata": {},
   "source": [
    "#### Task 7: Check whether a string entered by the user contains only digits."
   ]
  },
  {
   "cell_type": "code",
   "execution_count": null,
   "id": "ede4f5b4",
   "metadata": {},
   "outputs": [],
   "source": [
    "x = input(\"Enter the string: \")\n",
    "print(\"This is the user string value:\",x)\n",
    "print(f'The Output: {x.isdigit()}')"
   ]
  },
  {
   "cell_type": "markdown",
   "id": "3a8dde0b",
   "metadata": {},
   "source": [
    "#### Task 8: Write a program to reverse a string using slicing."
   ]
  },
  {
   "cell_type": "code",
   "execution_count": null,
   "id": "a79903d3",
   "metadata": {},
   "outputs": [],
   "source": [
    "a = \"Python Programming\"\n",
    "print(\"String:\",a)\n",
    "print(f'Reverse String: {a[::-1]}')"
   ]
  },
  {
   "cell_type": "markdown",
   "id": "df1dd62d",
   "metadata": {},
   "source": [
    "#### Task 9: Take a sentence from the user and replace all occurrences of 'Python' with 'Java'."
   ]
  },
  {
   "cell_type": "code",
   "execution_count": null,
   "id": "8609492d",
   "metadata": {},
   "outputs": [],
   "source": [
    "b = \"Python Programming language\"\n",
    "print(b.replace('Python', 'Java'))"
   ]
  }
 ],
 "metadata": {
  "kernelspec": {
   "display_name": "Python 3",
   "language": "python",
   "name": "python3"
  },
  "language_info": {
   "codemirror_mode": {
    "name": "ipython",
    "version": 3
   },
   "file_extension": ".py",
   "mimetype": "text/x-python",
   "name": "python",
   "nbconvert_exporter": "python",
   "pygments_lexer": "ipython3",
   "version": "3.13.5"
  }
 },
 "nbformat": 4,
 "nbformat_minor": 5
}
