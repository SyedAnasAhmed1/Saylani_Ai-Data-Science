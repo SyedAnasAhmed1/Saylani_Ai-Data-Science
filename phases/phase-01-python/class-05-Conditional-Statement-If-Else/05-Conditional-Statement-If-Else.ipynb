{
 "cells": [
  {
   "cell_type": "code",
   "execution_count": 3,
   "id": "3acd24e0",
   "metadata": {},
   "outputs": [
    {
     "name": "stdout",
     "output_type": "stream",
     "text": [
      "You are Eligible to Drive\n",
      "You can drive\n"
     ]
    }
   ],
   "source": [
    "age = int(input(\"Enter age: \"))\n",
    "\n",
    "if age >=18:\n",
    "    print(\"You are Eligible to Drive\")\n",
    "    print(\"You can drive\")\n",
    "    \n",
    "else:\n",
    "    print(\"You are not Eligible to drive\")"
   ]
  },
  {
   "cell_type": "code",
   "execution_count": 4,
   "id": "41889cda",
   "metadata": {},
   "outputs": [
    {
     "name": "stdout",
     "output_type": "stream",
     "text": [
      "Odd Number\n"
     ]
    }
   ],
   "source": [
    "n = int(input('Enter an integer '))\n",
    "\n",
    "if n % 2 == 0:\n",
    "    print(\"Even Number\")\n",
    "    \n",
    "else:\n",
    "    print(\"Odd Number\")"
   ]
  },
  {
   "cell_type": "code",
   "execution_count": 6,
   "id": "216a75d5",
   "metadata": {},
   "outputs": [
    {
     "name": "stdout",
     "output_type": "stream",
     "text": [
      "Number is zero\n"
     ]
    }
   ],
   "source": [
    "a = float(input(\"Enter a number: \"))\n",
    "if a ==0:\n",
    "    print(\"Number is zero\")\n",
    "else: \n",
    "    print(\"Number is Not zero\")"
   ]
  },
  {
   "cell_type": "code",
   "execution_count": 5,
   "id": "38513fa7",
   "metadata": {},
   "outputs": [
    {
     "name": "stdout",
     "output_type": "stream",
     "text": [
      "Roll Number:56\n",
      "You Pass\n"
     ]
    }
   ],
   "source": [
    "Roll_No = int(input(\"Enter Your Roll Number: \"))\n",
    "Marks = float(input(\"Enter Marks\"))\n",
    "print(f'Roll Number:{Roll_No}')\n",
    "if Marks <=50:\n",
    "    print(\"You Passed\")\n",
    "else:\n",
    "    print(\"You Failed\")\n"
   ]
  },
  {
   "cell_type": "code",
   "execution_count": 9,
   "id": "ba082df0",
   "metadata": {},
   "outputs": [
    {
     "name": "stdout",
     "output_type": "stream",
     "text": [
      "User Num Value: 10\n",
      "User Num Value: 50\n",
      "User operator: /\n",
      "Division: 0.2\n"
     ]
    }
   ],
   "source": [
    "num1 = int(input(\"Enter First Number: \"))\n",
    "num2 = int(input(\"Enter First Number: \"))\n",
    "oppr = input(\"Enter Operator: \")\n",
    "print(f'User Num Value: {num1}')\n",
    "print(f'User Num Value: {num2}')\n",
    "print(f'User operator: {oppr}')\n",
    "if oppr == \"+\":\n",
    "    print(f'Addition: {num1+num2}')\n",
    "elif oppr == \"-\":\n",
    "    print(f'Subtraction: {num1-num2}')\n",
    "elif oppr == \"*\":\n",
    "    print(f'Multiplication: {num1*num2}')\n",
    "elif oppr == \"/\":\n",
    "    print(f'Division: {num1/num2}')\n",
    "else:\n",
    "    print(\"Invalid Operater\")"
   ]
  }
 ],
 "metadata": {
  "kernelspec": {
   "display_name": "Python 3",
   "language": "python",
   "name": "python3"
  },
  "language_info": {
   "codemirror_mode": {
    "name": "ipython",
    "version": 3
   },
   "file_extension": ".py",
   "mimetype": "text/x-python",
   "name": "python",
   "nbconvert_exporter": "python",
   "pygments_lexer": "ipython3",
   "version": "3.13.5"
  }
 },
 "nbformat": 4,
 "nbformat_minor": 5
}
