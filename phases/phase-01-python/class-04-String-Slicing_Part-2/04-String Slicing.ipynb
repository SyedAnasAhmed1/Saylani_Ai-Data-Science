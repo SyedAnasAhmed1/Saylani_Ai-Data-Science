{
 "cells": [
  {
   "cell_type": "markdown",
   "id": "6dca28d3",
   "metadata": {
    "id": "6dca28d3"
   },
   "source": [
    "# String Slicing\n",
    "\n",
    "\n",
    "Python slicing is about obtaining a sub-string from the given string by slicing it respectively from start to end\n",
    "\n",
    "\n",
    "\n",
    "## How String slicing in Python works\n",
    "\n",
    "\n",
    "For understanding slicing we will use different methods, here we will cover 2 methods of string slicing, one using the in-build slice() method and another using the [:] array slice. String slicing in Python is about obtaining a sub-string from the given string by slicing it respectively from start to end."
   ]
  },
  {
   "cell_type": "markdown",
   "id": "0411bd89",
   "metadata": {
    "id": "0411bd89"
   },
   "source": [
    "# Python slicing can be done in two ways:\n",
    "\n",
    "\n",
    "1. Using a slice() method\n",
    "2. Using the array slicing  [:: ] method"
   ]
  },
  {
   "cell_type": "markdown",
   "id": "fe8f2fa4",
   "metadata": {
    "id": "fe8f2fa4"
   },
   "source": [
    "## Method 1: Using the slice() method"
   ]
  },
  {
   "cell_type": "code",
   "execution_count": null,
   "id": "7a27a912",
   "metadata": {
    "colab": {
     "base_uri": "https://localhost:8080/"
    },
    "executionInfo": {
     "elapsed": 550,
     "status": "ok",
     "timestamp": 1720798055003,
     "user": {
      "displayName": "Faisal Amin",
      "userId": "07618200051041167646"
     },
     "user_tz": -300
    },
    "id": "7a27a912",
    "outputId": "bb0f852b-e4cd-41b5-b7db-296d1e298ae0"
   },
   "outputs": [
    {
     "name": "stdout",
     "output_type": "stream",
     "text": [
      "slice(1, 4, None)\n"
     ]
    }
   ],
   "source": [
    "a = \"Hello world\"\n",
    "\n",
    "# print(a[0:11:3])\n",
    "\n",
    "s1 = slice(1,4)\n",
    "print(s1)\n",
    "# s2 = slice(5,9)\n",
    "# s3 = slice(-1, -12, -1) #Reverse the string\n",
    "# s4 = slice(6,10,2)\n",
    "# print(len(a))\n",
    "\n",
    "\n",
    "# print(a[s1])\n",
    "# print(a[s2])\n",
    "# print(a[s3])\n",
    "# print(a[s4])"
   ]
  },
  {
   "cell_type": "code",
   "execution_count": null,
   "id": "iGsiAxpY0Oiv",
   "metadata": {
    "colab": {
     "base_uri": "https://localhost:8080/",
     "height": 35
    },
    "executionInfo": {
     "elapsed": 18,
     "status": "ok",
     "timestamp": 1746120552901,
     "user": {
      "displayName": "Faisal Amin",
      "userId": "07618200051041167646"
     },
     "user_tz": -300
    },
    "id": "iGsiAxpY0Oiv",
    "outputId": "22aaa30f-4f08-4200-9713-3a1bebe4b00d"
   },
   "outputs": [
    {
     "data": {
      "application/vnd.google.colaboratory.intrinsic+json": {
       "type": "string"
      },
      "text/plain": [
       "'TIMS inalyaS'"
      ]
     },
     "execution_count": 33,
     "metadata": {},
     "output_type": "execute_result"
    }
   ],
   "source": [
    "b = \"Saylani SMIT\"\n",
    "b[::-1]"
   ]
  },
  {
   "cell_type": "markdown",
   "id": "f16f4c5b",
   "metadata": {
    "id": "f16f4c5b"
   },
   "source": [
    "## Method 2: Using the List/array slicing  [ :: ]  method\n",
    "In Python, indexing syntax can be used as a substitute for the slice object. This is an easy and convenient way to slice a string using list slicing and Array slicing both syntax-wise and execution-wise. A start, end, and step have the same mechanism as the slice() constructor.  "
   ]
  },
  {
   "cell_type": "markdown",
   "id": "4f3fe7ce",
   "metadata": {
    "id": "4f3fe7ce"
   },
   "source": [
    "## Syntax\n",
    "\n",
    "arr[start:stop]            items start through stop-1\n",
    "\n",
    "\n",
    "arr[start:]                items start through the rest of the array\n",
    "\n",
    "\n",
    "arr[:stop]                 items from the beginning through stop-1\n",
    "\n",
    "\n",
    "arr[:]                     a copy of the whole array\n",
    "\n",
    "\n",
    "arr[start:stop:step]       start through not past stop, by step\n"
   ]
  },
  {
   "cell_type": "code",
   "execution_count": 28,
   "id": "466ca78a",
   "metadata": {
    "colab": {
     "base_uri": "https://localhost:8080/"
    },
    "executionInfo": {
     "elapsed": 6,
     "status": "ok",
     "timestamp": 1758464898737,
     "user": {
      "displayName": "Faisal Amin",
      "userId": "07618200051041167646"
     },
     "user_tz": -300
    },
    "id": "466ca78a",
    "outputId": "a2c42919-da61-4ddd-998b-05fbfd351fba"
   },
   "outputs": [
    {
     "name": "stdout",
     "output_type": "stream",
     "text": [
      "14\n",
      "cin\n",
      "gnicilS gnirtS\n"
     ]
    }
   ],
   "source": [
    "b = \"String Slicing\"\n",
    "# print(b[-1])\n",
    "print(len(b))\n",
    "# print(b[150])\n",
    "# print(b[len(b)-4:len(b)-1])\n",
    "print(b[10:13])\n",
    "print(b[::-1])\n"
   ]
  },
  {
   "cell_type": "code",
   "execution_count": null,
   "id": "dc20dcdc",
   "metadata": {
    "id": "dc20dcdc",
    "outputId": "492a7aa6-78e4-4732-eebb-edc5ccfa7207"
   },
   "outputs": [
    {
     "name": "stdout",
     "output_type": "stream",
     "text": [
      "CEG\n"
     ]
    }
   ],
   "source": [
    "S = 'ABCDEFGHI'\n",
    "print(S[2:7:2])\t# CEG"
   ]
  },
  {
   "cell_type": "markdown",
   "id": "0d578220",
   "metadata": {
    "id": "0d578220"
   },
   "source": [
    "# Exercises\n"
   ]
  },
  {
   "cell_type": "markdown",
   "id": "2f7e8602",
   "metadata": {
    "id": "2f7e8602"
   },
   "source": [
    "Q1 Accept the string from the user and diplay the string with first charactor of each word is capital"
   ]
  },
  {
   "cell_type": "code",
   "execution_count": null,
   "id": "ef600b9c",
   "metadata": {
    "id": "ef600b9c",
    "outputId": "bbcaf595-316d-4df9-b395-bfd61b4ca728"
   },
   "outputs": [
    {
     "name": "stdout",
     "output_type": "stream",
     "text": [
      "Enter a sentencepython is a programming language\n",
      "Python Is A Programming Language "
     ]
    }
   ],
   "source": [
    "str_1 = input(\"Enter a sentence: \")\n",
    "\n",
    "str_splt = str_1.split()\n",
    "\n",
    "\n",
    "for i in str_splt:\n",
    "    print(i[0].upper() + i[1:])"
   ]
  },
  {
   "cell_type": "markdown",
   "id": "4a1c7782",
   "metadata": {
    "id": "4a1c7782"
   },
   "source": [
    "Q2 Write a program to accept string from user and display n charactors from the left of a string"
   ]
  },
  {
   "cell_type": "code",
   "execution_count": null,
   "id": "25edebb3",
   "metadata": {
    "id": "25edebb3",
    "outputId": "6cd57826-b95d-4c62-ec9f-086712c0753a"
   },
   "outputs": [
    {
     "name": "stdout",
     "output_type": "stream",
     "text": [
      "Enter a string: Numerical Python is an abbreviation of NumPy\n",
      "Enter How many charactors you want to extract from string: 10\n",
      "Numerical \n"
     ]
    }
   ],
   "source": [
    "a = input(\"Enter a string: \")\n",
    "no_of_charactors = int(input(\"Enter How many charactors you want to extract from string: \"))\n",
    "\n",
    "if no_of_charactors > len(a):\n",
    "    print(\"Your answer is greater than the total number of charactors\")\n",
    "else:\n",
    "    print(a[:no_of_charactors+1])\n",
    "\n",
    "\n"
   ]
  },
  {
   "cell_type": "markdown",
   "id": "8ff0ee52",
   "metadata": {
    "id": "8ff0ee52"
   },
   "source": [
    "Q3. Write a program to reverse string in Python"
   ]
  },
  {
   "cell_type": "code",
   "execution_count": null,
   "id": "71688e1e",
   "metadata": {
    "colab": {
     "base_uri": "https://localhost:8080/"
    },
    "executionInfo": {
     "elapsed": 4784,
     "status": "ok",
     "timestamp": 1758381956299,
     "user": {
      "displayName": "Faisal Amin",
      "userId": "07618200051041167646"
     },
     "user_tz": -300
    },
    "id": "71688e1e",
    "outputId": "e4a43d5b-0f9d-4750-9916-7aeb4e04d68d"
   },
   "outputs": [
    {
     "name": "stdout",
     "output_type": "stream",
     "text": [
      "Enter an charactor Number which you want to print : 3\n",
      "t\n"
     ]
    }
   ],
   "source": [
    "a = \"Python\"\n",
    "\n",
    "user_input = int(input(\"Enter an charactor Number which you want to print : \"))\n",
    "print(a[user_input - 1])"
   ]
  },
  {
   "cell_type": "code",
   "execution_count": null,
   "id": "3dc91987",
   "metadata": {
    "colab": {
     "base_uri": "https://localhost:8080/",
     "height": 88
    },
    "executionInfo": {
     "elapsed": 7457,
     "status": "ok",
     "timestamp": 1746122136307,
     "user": {
      "displayName": "Faisal Amin",
      "userId": "07618200051041167646"
     },
     "user_tz": -300
    },
    "id": "3dc91987",
    "outputId": "b7e2a996-9c64-4637-b551-82f2e8ca30cf"
   },
   "outputs": [
    {
     "name": "stdout",
     "output_type": "stream",
     "text": [
      "Enter a value: computer\n",
      "Enter starting index: 4\n",
      "Enter ending index: 6\n"
     ]
    },
    {
     "data": {
      "application/vnd.google.colaboratory.intrinsic+json": {
       "type": "string"
      },
      "text/plain": [
       "'put'"
      ]
     },
     "execution_count": 39,
     "metadata": {},
     "output_type": "execute_result"
    }
   ],
   "source": [
    "inp = input(\"Enter a value: \")\n",
    "ind_01 = int(input(\"Enter starting index: \"))\n",
    "ind_02 = int(input(\"Enter ending index: \"))\n",
    "inp[ind_01-1:ind_02]"
   ]
  },
  {
   "cell_type": "code",
   "execution_count": null,
   "id": "WToVRlEf92Rm",
   "metadata": {
    "colab": {
     "base_uri": "https://localhost:8080/"
    },
    "executionInfo": {
     "elapsed": 7189,
     "status": "ok",
     "timestamp": 1758382778238,
     "user": {
      "displayName": "Faisal Amin",
      "userId": "07618200051041167646"
     },
     "user_tz": -300
    },
    "id": "WToVRlEf92Rm",
    "outputId": "a6faad31-97c4-4587-dcf6-634f06ff9cfb"
   },
   "outputs": [
    {
     "name": "stdout",
     "output_type": "stream",
     "text": [
      "Enter starting index: 1\n",
      "Enter ending index: 6\n",
      "My name\n"
     ]
    }
   ],
   "source": [
    "b = \"My name is Ali\"\n",
    "\n",
    "strt_ind = int(input(\"Enter starting index: \"))\n",
    "end_ind = int(input(\"Enter ending index: \"))\n",
    "\n",
    "print(b[strt_ind-1:end_ind+1])"
   ]
  }
 ],
 "metadata": {
  "colab": {
   "provenance": []
  },
  "kernelspec": {
   "display_name": "Python 3 (ipykernel)",
   "language": "python",
   "name": "python3"
  },
  "language_info": {
   "codemirror_mode": {
    "name": "ipython",
    "version": 3
   },
   "file_extension": ".py",
   "mimetype": "text/x-python",
   "name": "python",
   "nbconvert_exporter": "python",
   "pygments_lexer": "ipython3",
   "version": "3.9.13"
  }
 },
 "nbformat": 4,
 "nbformat_minor": 5
}
