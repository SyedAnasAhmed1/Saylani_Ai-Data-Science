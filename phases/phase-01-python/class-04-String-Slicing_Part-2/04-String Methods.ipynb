{
 "cells": [
  {
   "cell_type": "markdown",
   "id": "36ff2e8a",
   "metadata": {
    "id": "36ff2e8a"
   },
   "source": [
    "# String methods\n",
    "\n",
    "Python provides a set of built-in methods that we can use to alter and modify the strings.\n",
    "\n"
   ]
  },
  {
   "cell_type": "markdown",
   "id": "75d09e24",
   "metadata": {
    "id": "75d09e24"
   },
   "source": [
    "## upper() :\n",
    "The upper() method converts a string to upper case.\n",
    "\n"
   ]
  },
  {
   "cell_type": "code",
   "execution_count": 5,
   "id": "b32d8aac",
   "metadata": {
    "colab": {
     "base_uri": "https://localhost:8080/"
    },
    "executionInfo": {
     "elapsed": 10,
     "status": "ok",
     "timestamp": 1758465188551,
     "user": {
      "displayName": "Faisal Amin",
      "userId": "07618200051041167646"
     },
     "user_tz": -300
    },
    "id": "b32d8aac",
    "outputId": "5a138396-3919-4dd5-dafd-9a09fa7db68a"
   },
   "outputs": [
    {
     "name": "stdout",
     "output_type": "stream",
     "text": [
      "ABCDEFGHIJ\n"
     ]
    }
   ],
   "source": [
    "str1 = \"AbcDEfghIJ\"\n",
    "print(str1.upper())\n",
    "# print(str1)\n",
    "\n",
    "\n",
    "# str2 = str1.upper()\n",
    "# print(str2)"
   ]
  },
  {
   "cell_type": "code",
   "execution_count": null,
   "id": "e7275687",
   "metadata": {
    "colab": {
     "base_uri": "https://localhost:8080/"
    },
    "executionInfo": {
     "elapsed": 8,
     "status": "ok",
     "timestamp": 1746548406341,
     "user": {
      "displayName": "Faisal Amin",
      "userId": "07618200051041167646"
     },
     "user_tz": -300
    },
    "id": "e7275687",
    "outputId": "1f709e19-2db6-4416-924a-618f1cff817e"
   },
   "outputs": [
    {
     "name": "stdout",
     "output_type": "stream",
     "text": [
      "HELLO WORLD!\n"
     ]
    }
   ],
   "source": [
    "str2 = \"Hello world!\"\n",
    "print(str2.upper())"
   ]
  },
  {
   "cell_type": "markdown",
   "id": "2fbba4ad",
   "metadata": {
    "id": "2fbba4ad"
   },
   "source": [
    "## lower()\n",
    "The lower() method converts a string to lower case.\n",
    "\n"
   ]
  },
  {
   "cell_type": "code",
   "execution_count": 6,
   "id": "b704a2b6",
   "metadata": {
    "colab": {
     "base_uri": "https://localhost:8080/"
    },
    "executionInfo": {
     "elapsed": 13,
     "status": "ok",
     "timestamp": 1758465197732,
     "user": {
      "displayName": "Faisal Amin",
      "userId": "07618200051041167646"
     },
     "user_tz": -300
    },
    "id": "b704a2b6",
    "outputId": "704c8732-269d-4f34-d641-577ac1d0d0e6"
   },
   "outputs": [
    {
     "name": "stdout",
     "output_type": "stream",
     "text": [
      "abcdefghij\n"
     ]
    }
   ],
   "source": [
    "str1 = \"AbcDEfghIJ\"\n",
    "print(str1.lower())"
   ]
  },
  {
   "cell_type": "code",
   "execution_count": null,
   "id": "64c1d0f1",
   "metadata": {
    "colab": {
     "base_uri": "https://localhost:8080/"
    },
    "executionInfo": {
     "elapsed": 44,
     "status": "ok",
     "timestamp": 1746548439333,
     "user": {
      "displayName": "Faisal Amin",
      "userId": "07618200051041167646"
     },
     "user_tz": -300
    },
    "id": "64c1d0f1",
    "outputId": "b1e31f19-bbea-42d2-bc6a-219ba734645d"
   },
   "outputs": [
    {
     "name": "stdout",
     "output_type": "stream",
     "text": [
      "python\n",
      "PYTHON\n",
      "python\n"
     ]
    }
   ],
   "source": [
    "str2 = \"PYTHON\"\n",
    "abc = str2.lower()\n",
    "print(str2.lower())\n",
    "print(str2)\n",
    "print(abc)"
   ]
  },
  {
   "cell_type": "code",
   "execution_count": null,
   "id": "01d4c637",
   "metadata": {
    "id": "01d4c637",
    "outputId": "b7d3dc37-533b-4d05-b05c-df680d4c5d61"
   },
   "outputs": [
    {
     "data": {
      "text/plain": [
       "'PYTHON'"
      ]
     },
     "execution_count": 6,
     "metadata": {},
     "output_type": "execute_result"
    }
   ],
   "source": [
    "str2 # These functions will not change the actual strings"
   ]
  },
  {
   "cell_type": "markdown",
   "id": "dbb0a6e7",
   "metadata": {
    "id": "dbb0a6e7"
   },
   "source": [
    "## replace() :\n",
    "The replace() method replaces all occurences of a string with another string\n",
    "\n"
   ]
  },
  {
   "cell_type": "code",
   "execution_count": 7,
   "id": "92f83a78",
   "metadata": {
    "colab": {
     "base_uri": "https://localhost:8080/"
    },
    "executionInfo": {
     "elapsed": 12,
     "status": "ok",
     "timestamp": 1758465249801,
     "user": {
      "displayName": "Faisal Amin",
      "userId": "07618200051041167646"
     },
     "user_tz": -300
    },
    "id": "92f83a78",
    "outputId": "147ddf87-8c40-49e7-ddb6-febb09cc0968"
   },
   "outputs": [
    {
     "data": {
      "application/vnd.google.colaboratory.intrinsic+json": {
       "type": "string"
      },
      "text/plain": [
       "'Umar Akmal'"
      ]
     },
     "execution_count": 7,
     "metadata": {},
     "output_type": "execute_result"
    }
   ],
   "source": [
    "cricketer = \"Kamran Akmal\"\n",
    "cricketer.replace(\"Kamran\" , \"Umar\")\n"
   ]
  },
  {
   "cell_type": "code",
   "execution_count": 10,
   "id": "Chp-2eW3sq-G",
   "metadata": {
    "colab": {
     "base_uri": "https://localhost:8080/",
     "height": 35
    },
    "executionInfo": {
     "elapsed": 51,
     "status": "ok",
     "timestamp": 1758465408925,
     "user": {
      "displayName": "Faisal Amin",
      "userId": "07618200051041167646"
     },
     "user_tz": -300
    },
    "id": "Chp-2eW3sq-G",
    "outputId": "3f300fec-2230-4786-e648-267251dde699"
   },
   "outputs": [
    {
     "data": {
      "application/vnd.google.colaboratory.intrinsic+json": {
       "type": "string"
      },
      "text/plain": [
       "'Kamran Akmal'"
      ]
     },
     "execution_count": 10,
     "metadata": {},
     "output_type": "execute_result"
    }
   ],
   "source": [
    "cricketer = \"Kamran Akmal\"\n",
    "cricketer.replace(\"Kamran\" , \"Umar\")\n",
    "cricketer"
   ]
  },
  {
   "cell_type": "code",
   "execution_count": null,
   "id": "9c914bc1",
   "metadata": {
    "id": "9c914bc1",
    "outputId": "c08bf195-794b-43ff-f1de-ab75f0b92004"
   },
   "outputs": [
    {
     "data": {
      "text/plain": [
       "'Kamran Akmal'"
      ]
     },
     "execution_count": 9,
     "metadata": {},
     "output_type": "execute_result"
    }
   ],
   "source": [
    "cricketer #These functions will not change the actual strings\n"
   ]
  },
  {
   "cell_type": "markdown",
   "id": "ab65c4cd",
   "metadata": {
    "id": "ab65c4cd"
   },
   "source": [
    "## split() :\n",
    "\n",
    "\n",
    "The split() method splits the given string at the specified instance and returns the separated strings as list items.\n",
    "\n"
   ]
  },
  {
   "cell_type": "code",
   "execution_count": 12,
   "id": "b58c4eab",
   "metadata": {
    "colab": {
     "base_uri": "https://localhost:8080/"
    },
    "executionInfo": {
     "elapsed": 17,
     "status": "ok",
     "timestamp": 1758465957291,
     "user": {
      "displayName": "Faisal Amin",
      "userId": "07618200051041167646"
     },
     "user_tz": -300
    },
    "id": "b58c4eab",
    "outputId": "5e97bda0-2b39-406c-a056-475c11887fb7"
   },
   "outputs": [
    {
     "data": {
      "text/plain": [
       "['Hello', 'World']"
      ]
     },
     "execution_count": 12,
     "metadata": {},
     "output_type": "execute_result"
    }
   ],
   "source": [
    "a = \"Hello World\"\n",
    "a.split(\" \") # split the string when finds whitespace"
   ]
  },
  {
   "cell_type": "markdown",
   "id": "366cb6e3",
   "metadata": {
    "id": "366cb6e3"
   },
   "source": [
    "# capitalize() :\n",
    "\n",
    "\n",
    "The capitalize() method turns only the first character of the string to uppercase and the rest other characters of the string are turned to lowercase. The string has no effect if the first character is already uppercase.\n",
    "\n"
   ]
  },
  {
   "cell_type": "code",
   "execution_count": 13,
   "id": "1630d816",
   "metadata": {
    "colab": {
     "base_uri": "https://localhost:8080/"
    },
    "executionInfo": {
     "elapsed": 14,
     "status": "ok",
     "timestamp": 1758466000473,
     "user": {
      "displayName": "Faisal Amin",
      "userId": "07618200051041167646"
     },
     "user_tz": -300
    },
    "id": "1630d816",
    "outputId": "a33615f8-5164-4deb-fd74-a0443c30f3bf"
   },
   "outputs": [
    {
     "name": "stdout",
     "output_type": "stream",
     "text": [
      "Hello\n",
      "Hello world\n"
     ]
    }
   ],
   "source": [
    "str1 = \"hello\"\n",
    "capStr1 = str1.capitalize()\n",
    "print(capStr1)\n",
    "str2 = \"hello WorlD\"\n",
    "capStr2 = str2.capitalize()\n",
    "print(capStr2)"
   ]
  },
  {
   "cell_type": "markdown",
   "id": "9ca24006",
   "metadata": {
    "id": "9ca24006"
   },
   "source": [
    "## count() :\n",
    "\n",
    "\n",
    "The count() method returns the number of times the given value has occurred within the given string.\n",
    "\n"
   ]
  },
  {
   "cell_type": "code",
   "execution_count": 15,
   "id": "7cb9a34f",
   "metadata": {
    "colab": {
     "base_uri": "https://localhost:8080/"
    },
    "executionInfo": {
     "elapsed": 9,
     "status": "ok",
     "timestamp": 1758466104733,
     "user": {
      "displayName": "Faisal Amin",
      "userId": "07618200051041167646"
     },
     "user_tz": -300
    },
    "id": "7cb9a34f",
    "outputId": "7ea9aa39-7b34-40d5-f3a9-e3cfb5fc026e"
   },
   "outputs": [
    {
     "name": "stdout",
     "output_type": "stream",
     "text": [
      "3\n"
     ]
    }
   ],
   "source": [
    "a = \"Hello World!\"\n",
    "print(a.count(\"l\"))"
   ]
  },
  {
   "cell_type": "markdown",
   "id": "56f1b56b",
   "metadata": {
    "id": "56f1b56b"
   },
   "source": [
    "## endswith() :\n",
    "The endswith() method checks if the string ends with a given value. If yes then return True, else return False.\n",
    "\n"
   ]
  },
  {
   "cell_type": "code",
   "execution_count": 17,
   "id": "-S5PjCS3UUcG",
   "metadata": {
    "colab": {
     "base_uri": "https://localhost:8080/"
    },
    "executionInfo": {
     "elapsed": 13,
     "status": "ok",
     "timestamp": 1758466139823,
     "user": {
      "displayName": "Faisal Amin",
      "userId": "07618200051041167646"
     },
     "user_tz": -300
    },
    "id": "-S5PjCS3UUcG",
    "outputId": "121d44a1-e08a-48e2-e6f4-d53a4dbe01bd"
   },
   "outputs": [
    {
     "name": "stdout",
     "output_type": "stream",
     "text": [
      "False\n"
     ]
    }
   ],
   "source": [
    "a = \"Hello\"\n",
    "print(a.endswith(\"e\"))"
   ]
  },
  {
   "cell_type": "code",
   "execution_count": null,
   "id": "VVv-1waBWvAF",
   "metadata": {
    "colab": {
     "base_uri": "https://localhost:8080/"
    },
    "executionInfo": {
     "elapsed": 4,
     "status": "ok",
     "timestamp": 1696836924947,
     "user": {
      "displayName": "Faisal Amin",
      "userId": "07618200051041167646"
     },
     "user_tz": -300
    },
    "id": "VVv-1waBWvAF",
    "outputId": "287c512b-fcea-421c-f7de-d29d8292dd5c"
   },
   "outputs": [
    {
     "name": "stdout",
     "output_type": "stream",
     "text": [
      "HELLO\n",
      "hello\n",
      "Hello\n"
     ]
    }
   ],
   "source": [
    "a = \"Hello\"\n",
    "print(a.upper())\n",
    "print(a.lower())\n",
    "print(a.capitalize())\n"
   ]
  },
  {
   "cell_type": "code",
   "execution_count": 19,
   "id": "7a9d40e7",
   "metadata": {
    "colab": {
     "base_uri": "https://localhost:8080/"
    },
    "executionInfo": {
     "elapsed": 50,
     "status": "ok",
     "timestamp": 1758466186847,
     "user": {
      "displayName": "Faisal Amin",
      "userId": "07618200051041167646"
     },
     "user_tz": -300
    },
    "id": "7a9d40e7",
    "outputId": "c928b5a1-2ed2-4285-b2b2-7db2b9df76e4"
   },
   "outputs": [
    {
     "name": "stdout",
     "output_type": "stream",
     "text": [
      "False\n"
     ]
    }
   ],
   "source": [
    "str1 = \"Welcome to the Console !\"\n",
    "print(str1.endswith(\"!!!\"))"
   ]
  },
  {
   "cell_type": "code",
   "execution_count": null,
   "id": "CAO1D3PgYAe2",
   "metadata": {
    "colab": {
     "base_uri": "https://localhost:8080/",
     "height": 71
    },
    "executionInfo": {
     "elapsed": 7709,
     "status": "ok",
     "timestamp": 1722439300571,
     "user": {
      "displayName": "Faisal Amin",
      "userId": "07618200051041167646"
     },
     "user_tz": -300
    },
    "id": "CAO1D3PgYAe2",
    "outputId": "a5c5a82f-acb4-43fd-89fc-b1643548671a"
   },
   "outputs": [
    {
     "name": "stdout",
     "output_type": "stream",
     "text": [
      "enter a value: Ahmed\n",
      "enter a value: Anis\n"
     ]
    },
    {
     "data": {
      "application/vnd.google.colaboratory.intrinsic+json": {
       "type": "string"
      },
      "text/plain": [
       "'Anis Raza'"
      ]
     },
     "execution_count": 12,
     "metadata": {},
     "output_type": "execute_result"
    }
   ],
   "source": [
    "name1 = \"Ahmed Raza\"\n",
    "\n",
    "a = input(\"enter a value: \")\n",
    "b = input(\"enter a value: \")\n",
    "name1.replace(a , b)"
   ]
  },
  {
   "cell_type": "markdown",
   "id": "062a6a04",
   "metadata": {
    "id": "062a6a04"
   },
   "source": [
    "We can even also check for a value in-between the string by providing start and end index positions.\n",
    "\n"
   ]
  },
  {
   "cell_type": "code",
   "execution_count": null,
   "id": "daa0ed2f",
   "metadata": {
    "colab": {
     "base_uri": "https://localhost:8080/"
    },
    "executionInfo": {
     "elapsed": 365,
     "status": "ok",
     "timestamp": 1722438346066,
     "user": {
      "displayName": "Faisal Amin",
      "userId": "07618200051041167646"
     },
     "user_tz": -300
    },
    "id": "daa0ed2f",
    "outputId": "71f840b3-6075-4fbe-f9de-5f84badb2210"
   },
   "outputs": [
    {
     "name": "stdout",
     "output_type": "stream",
     "text": [
      "True\n"
     ]
    }
   ],
   "source": [
    "str1 = \"Hello Pakistan !!!\"\n",
    "print(str1.endswith(\"i\", 4, 10))"
   ]
  },
  {
   "cell_type": "markdown",
   "id": "2d5961d2",
   "metadata": {
    "id": "2d5961d2"
   },
   "source": [
    "## find() :\n",
    "The find() method searches for the first occurrence of the given value and returns the index where it is present. If given value is absent from the string then return -1.\n",
    "\n"
   ]
  },
  {
   "cell_type": "code",
   "execution_count": 21,
   "id": "55d2d4a7",
   "metadata": {
    "colab": {
     "base_uri": "https://localhost:8080/"
    },
    "executionInfo": {
     "elapsed": 14,
     "status": "ok",
     "timestamp": 1758466337528,
     "user": {
      "displayName": "Faisal Amin",
      "userId": "07618200051041167646"
     },
     "user_tz": -300
    },
    "id": "55d2d4a7",
    "outputId": "6f183402-7a1b-459d-8c58-b3bd68ed7a9c"
   },
   "outputs": [
    {
     "name": "stdout",
     "output_type": "stream",
     "text": [
      "21\n"
     ]
    }
   ],
   "source": [
    "str1 = \"He's name in Dan. He is an honest man.\"\n",
    "print(str1.find(\"is\"))"
   ]
  },
  {
   "cell_type": "markdown",
   "id": "6fca33f6",
   "metadata": {
    "id": "6fca33f6"
   },
   "source": [
    "## isalnum() :\n",
    "The isalnum() method returns True only if the entire string only consists of A-Z, a-z, 0-9. If any other characters or punctuations are present, then it returns False.\n",
    "\n"
   ]
  },
  {
   "cell_type": "code",
   "execution_count": 25,
   "id": "d1826ccc",
   "metadata": {
    "colab": {
     "base_uri": "https://localhost:8080/"
    },
    "executionInfo": {
     "elapsed": 8,
     "status": "ok",
     "timestamp": 1758466401797,
     "user": {
      "displayName": "Faisal Amin",
      "userId": "07618200051041167646"
     },
     "user_tz": -300
    },
    "id": "d1826ccc",
    "outputId": "2a3dbdc1-d645-44bf-bb19-1aed05f099d4"
   },
   "outputs": [
    {
     "name": "stdout",
     "output_type": "stream",
     "text": [
      "True\n"
     ]
    }
   ],
   "source": [
    "str1 = \"WelcomeToTheConsole\"\n",
    "print(str1.isalnum())"
   ]
  },
  {
   "cell_type": "markdown",
   "id": "32e6213c",
   "metadata": {
    "id": "32e6213c"
   },
   "source": [
    "## isalpha() :\n",
    "The isalpha() method returns True only if the entire string only consists of A-Z, a-z. If any other characters or punctuations or numbers(0-9) are present, then it returns False.\n",
    "\n"
   ]
  },
  {
   "cell_type": "code",
   "execution_count": 27,
   "id": "81029fe1",
   "metadata": {
    "colab": {
     "base_uri": "https://localhost:8080/"
    },
    "executionInfo": {
     "elapsed": 13,
     "status": "ok",
     "timestamp": 1758466425091,
     "user": {
      "displayName": "Faisal Amin",
      "userId": "07618200051041167646"
     },
     "user_tz": -300
    },
    "id": "81029fe1",
    "outputId": "61237160-1b27-4db2-fcf1-9e06c4abf7b0"
   },
   "outputs": [
    {
     "name": "stdout",
     "output_type": "stream",
     "text": [
      "False\n"
     ]
    }
   ],
   "source": [
    "str1 = \"hello22world\"\n",
    "print(str1.isalpha())"
   ]
  },
  {
   "cell_type": "markdown",
   "id": "8903630b",
   "metadata": {
    "id": "8903630b"
   },
   "source": [
    "## islower() :\n",
    "The islower() method returns True if all the characters in the string are lower case, else it returns False.\n",
    "\n"
   ]
  },
  {
   "cell_type": "code",
   "execution_count": 29,
   "id": "f86dff23",
   "metadata": {
    "colab": {
     "base_uri": "https://localhost:8080/"
    },
    "executionInfo": {
     "elapsed": 10,
     "status": "ok",
     "timestamp": 1758466528233,
     "user": {
      "displayName": "Faisal Amin",
      "userId": "07618200051041167646"
     },
     "user_tz": -300
    },
    "id": "f86dff23",
    "outputId": "784b298f-dba0-4841-8493-9db4f0061f25"
   },
   "outputs": [
    {
     "name": "stdout",
     "output_type": "stream",
     "text": [
      "False\n"
     ]
    }
   ],
   "source": [
    "str1 = \"hello world\"\n",
    "print(str1.islower())"
   ]
  }
 ],
 "metadata": {
  "colab": {
   "provenance": []
  },
  "kernelspec": {
   "display_name": "Python 3 (ipykernel)",
   "language": "python",
   "name": "python3"
  },
  "language_info": {
   "codemirror_mode": {
    "name": "ipython",
    "version": 3
   },
   "file_extension": ".py",
   "mimetype": "text/x-python",
   "name": "python",
   "nbconvert_exporter": "python",
   "pygments_lexer": "ipython3",
   "version": "3.9.13"
  }
 },
 "nbformat": 4,
 "nbformat_minor": 5
}
