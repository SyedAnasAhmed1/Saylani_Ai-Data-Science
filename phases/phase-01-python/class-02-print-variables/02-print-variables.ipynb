{
 "cells": [
  {
   "cell_type": "markdown",
   "id": "dc355374",
   "metadata": {},
   "source": [
    "# Print Function"
   ]
  },
  {
   "cell_type": "code",
   "execution_count": 1,
   "id": "5e6d4ef9",
   "metadata": {},
   "outputs": [
    {
     "name": "stdout",
     "output_type": "stream",
     "text": [
      "Hello Wolrd\n"
     ]
    }
   ],
   "source": [
    "print(\"Hello Wolrd\")"
   ]
  },
  {
   "cell_type": "code",
   "execution_count": 2,
   "id": "a47a0799",
   "metadata": {},
   "outputs": [
    {
     "name": "stdout",
     "output_type": "stream",
     "text": [
      "Syed--Anas\n"
     ]
    }
   ],
   "source": [
    "print(\"Syed\",\"Anas\",sep=\"--\")"
   ]
  },
  {
   "cell_type": "code",
   "execution_count": 3,
   "id": "38766a62",
   "metadata": {},
   "outputs": [
    {
     "name": "stdout",
     "output_type": "stream",
     "text": [
      "Syed Anas\n"
     ]
    }
   ],
   "source": [
    "print(\"Syed\",end=\" \")\n",
    "print(\"Anas\")"
   ]
  },
  {
   "cell_type": "code",
   "execution_count": 4,
   "id": "9b4e43dc",
   "metadata": {},
   "outputs": [
    {
     "name": "stdout",
     "output_type": "stream",
     "text": [
      "Syed Anas Ahmed\n"
     ]
    }
   ],
   "source": [
    "print(\"Syed\",end=\" \")\n",
    "print(\"Anas\",end=\" \")\n",
    "print(\"Ahmed\")"
   ]
  },
  {
   "cell_type": "code",
   "execution_count": 5,
   "id": "41e9a0b3",
   "metadata": {},
   "outputs": [
    {
     "name": "stdout",
     "output_type": "stream",
     "text": [
      "4\n",
      "0\n",
      "4\n",
      "1.0\n",
      "1\n"
     ]
    }
   ],
   "source": [
    "print(2+2)\n",
    "print(2-2)\n",
    "print(2*2)\n",
    "print(2/2)\n",
    "print(23%2)"
   ]
  },
  {
   "cell_type": "markdown",
   "id": "07084ad1",
   "metadata": {},
   "source": [
    "# Data Types"
   ]
  },
  {
   "cell_type": "code",
   "execution_count": 6,
   "id": "ffe464a4",
   "metadata": {},
   "outputs": [
    {
     "name": "stdout",
     "output_type": "stream",
     "text": [
      "<class 'str'>\n",
      "<class 'int'>\n",
      "<class 'float'>\n",
      "<class 'bool'>\n",
      "<class 'NoneType'>\n"
     ]
    }
   ],
   "source": [
    "print(type(\"Anas\"))\n",
    "print(type(23))\n",
    "print(type(2.3))\n",
    "print(type(True))\n",
    "print(type(None))"
   ]
  },
  {
   "cell_type": "markdown",
   "id": "88352dfe",
   "metadata": {},
   "source": [
    "# Variables"
   ]
  },
  {
   "cell_type": "code",
   "execution_count": 7,
   "id": "86ddb3ad",
   "metadata": {},
   "outputs": [
    {
     "name": "stdout",
     "output_type": "stream",
     "text": [
      "30\n"
     ]
    }
   ],
   "source": [
    "a = 10\n",
    "b = 20\n",
    "print(a+b)"
   ]
  },
  {
   "cell_type": "code",
   "execution_count": 8,
   "id": "9898db00",
   "metadata": {},
   "outputs": [
    {
     "name": "stdout",
     "output_type": "stream",
     "text": [
      "-10\n"
     ]
    }
   ],
   "source": [
    "print (a - b)"
   ]
  },
  {
   "cell_type": "code",
   "execution_count": 9,
   "id": "07e0065c",
   "metadata": {},
   "outputs": [
    {
     "name": "stdout",
     "output_type": "stream",
     "text": [
      "100 200\n",
      "200 100\n"
     ]
    }
   ],
   "source": [
    "x = 100\n",
    "y = 200\n",
    "print(x,y)\n",
    "x , y = y , x\n",
    "print(x , y)"
   ]
  },
  {
   "cell_type": "code",
   "execution_count": 10,
   "id": "2fe63c16",
   "metadata": {},
   "outputs": [
    {
     "name": "stdout",
     "output_type": "stream",
     "text": [
      "500\n",
      "100\n",
      "60000\n",
      "2656139888758747693387813220357796268292334526533944959745749617390924909013021829943846990440010000000000000000000000000000000000000000000000000000000000000000000000000000000000000000000000000000000000000000000000000000000000000000000000000000000000000000000000000000000000000000000000000000000000000000000000000000000000000000000000000000000000000000000000000000000000000000000000000000000000000000000000000000000000000000000000000000000000000000000000000000000000000000000000000000000000000000\n",
      "1.5\n",
      "1\n",
      "100\n"
     ]
    }
   ],
   "source": [
    "a = 300\n",
    "b = 200\n",
    "print(a + b) # Additon\n",
    "print(a - b) # Subtraction\n",
    "print(a * b) # Multiply \n",
    "print(a ** b) # Square root\n",
    "print(a / b) # Divide\n",
    "print(a // b) # Floor Division \n",
    "print(a % b) # Modulas"
   ]
  },
  {
   "cell_type": "markdown",
   "id": "e13e79e8",
   "metadata": {},
   "source": [
    "# Escape Sequence"
   ]
  },
  {
   "cell_type": "code",
   "execution_count": 11,
   "id": "a9eef7d9",
   "metadata": {},
   "outputs": [
    {
     "name": "stdout",
     "output_type": "stream",
     "text": [
      "Hello\n",
      "World\n",
      "Syed\tAnas\tAhmed\n",
      "Hi I am Anas\n",
      "I am 20 years old\n"
     ]
    }
   ],
   "source": [
    "print(\"Hello\\nWorld\")\n",
    "print(\"Syed\\tAnas\\tAhmed\")\n",
    "print(\"Hi I am Anas\\nI am 20 years \\b old\")"
   ]
  },
  {
   "cell_type": "markdown",
   "id": "dd3cfdc3",
   "metadata": {},
   "source": [
    "# Bio Data"
   ]
  },
  {
   "cell_type": "code",
   "execution_count": 12,
   "id": "9d80b740",
   "metadata": {},
   "outputs": [
    {
     "name": "stdout",
     "output_type": "stream",
     "text": [
      "Name:Syed Anas Ahmed\n",
      "Father_NameSyed Maqbool Ahmed\n",
      "Age:20\n",
      "Education:BS Data Science\n",
      "Height:5.6\n",
      "Weight:58\n"
     ]
    }
   ],
   "source": [
    "Name = \"Syed Anas Ahmed\"\n",
    "Father_Name = \"Syed Maqbool Ahmed\"\n",
    "Age = 20\n",
    "Education = \"BS Data Science\"\n",
    "Height = 5.6\n",
    "Weight = 58\n",
    "print(f\"Name:{Name}\\nFather_Name{Father_Name}\\nAge:{Age}\\nEducation:{Education}\\nHeight:{Height}\\nWeight:{Weight}\")"
   ]
  }
 ],
 "metadata": {
  "kernelspec": {
   "display_name": "Python 3",
   "language": "python",
   "name": "python3"
  },
  "language_info": {
   "codemirror_mode": {
    "name": "ipython",
    "version": 3
   },
   "file_extension": ".py",
   "mimetype": "text/x-python",
   "name": "python",
   "nbconvert_exporter": "python",
   "pygments_lexer": "ipython3",
   "version": "3.13.5"
  }
 },
 "nbformat": 4,
 "nbformat_minor": 5
}
