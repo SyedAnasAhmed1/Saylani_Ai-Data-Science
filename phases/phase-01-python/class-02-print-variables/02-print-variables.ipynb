{
 "cells": [
  {
   "cell_type": "code",
   "execution_count": null,
   "id": "be6ada3e",
   "metadata": {},
   "outputs": [],
   "source": [
    "# Class 02 - Print, Variables, Data Types\n",
    "\n",
    "# Printing\n",
    "print(\"Welcome to Saylani AI & Data Science Course\")\n",
    "\n",
    "# Variables\n",
    "name = \"Anas\"\n",
    "age = 22\n",
    "gpa = 3.8\n",
    "is_student = True\n",
    "\n",
    "print(\"Name:\", name)\n",
    "print(\"Age:\", age)\n",
    "print(\"GPA:\", gpa)\n",
    "print(\"Student?\", is_student)\n",
    "\n",
    "# sep example\n",
    "print(\"Apple\", \"Banana\", \"Mango\", sep=\", \")\n",
    "\n",
    "# end example\n",
    "print(\"Hello\", end=\" \")\n",
    "print(\"World\")\n",
    "\n",
    "# Data types\n",
    "print(type(name))\n",
    "print(type(age))\n",
    "print(type(gpa))\n",
    "print(type(is_student))\n"
   ]
  }
 ],
 "metadata": {
  "kernelspec": {
   "display_name": "Python 3",
   "language": "python",
   "name": "python3"
  },
  "language_info": {
   "codemirror_mode": {
    "name": "ipython",
    "version": 3
   },
   "file_extension": ".py",
   "mimetype": "text/x-python",
   "name": "python",
   "nbconvert_exporter": "python",
   "pygments_lexer": "ipython3",
   "version": "3.13.5"
  }
 },
 "nbformat": 4,
 "nbformat_minor": 5
}
