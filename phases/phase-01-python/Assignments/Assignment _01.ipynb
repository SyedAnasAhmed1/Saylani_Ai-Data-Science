{
 "cells": [
  {
   "cell_type": "markdown",
   "id": "ad2bb3d8",
   "metadata": {},
   "source": [
    "#                                                  || Assignment ||\n",
    "### Name: Syed Anas Ahmed\n",
    "### Saylani Roll_Number: AI-479872"
   ]
  },
  {
   "cell_type": "markdown",
   "id": "144d5019",
   "metadata": {},
   "source": [
    "###  || Part A: Print Statement ||"
   ]
  },
  {
   "cell_type": "markdown",
   "id": "56c47ceb",
   "metadata": {},
   "source": [
    "#### 1: Write a program to print your name and age using a single print statement."
   ]
  },
  {
   "cell_type": "code",
   "execution_count": 1,
   "id": "92dc2ab8",
   "metadata": {},
   "outputs": [
    {
     "name": "stdout",
     "output_type": "stream",
     "text": [
      "Syed Anas Ahmed 20\n"
     ]
    }
   ],
   "source": [
    "print(\"Syed Anas Ahmed\",20)"
   ]
  },
  {
   "cell_type": "markdown",
   "id": "03745039",
   "metadata": {},
   "source": [
    "#### 2: Use sep to print numbers 1, 2, 3, 4, 5 with different separators (-, |, ,)."
   ]
  },
  {
   "cell_type": "code",
   "execution_count": 4,
   "id": "26579ab2",
   "metadata": {},
   "outputs": [
    {
     "name": "stdout",
     "output_type": "stream",
     "text": [
      "1-2-3-4-5\n",
      "1|2|3|4|5\n",
      "1,2,3,4,5\n",
      "1 2 3 4 5\n"
     ]
    }
   ],
   "source": [
    "print(1,2,3,4,5,sep=\"-\" ) # using \"-\"\n",
    "print(1,2,3,4,5,sep=\"|\" ) # using \"|\"\n",
    "print(1,2,3,4,5,sep=\",\" ) # using \",\"\n",
    "print(1,2,3,4,5,sep=\" \" ) # using \" \""
   ]
  },
  {
   "cell_type": "markdown",
   "id": "9e1109c0",
   "metadata": {},
   "source": [
    "#### 3: Use end to print the following output using only two print statements:\n",
    "#### Hello World!\n",
    "#### I am learning Python"
   ]
  },
  {
   "cell_type": "code",
   "execution_count": 5,
   "id": "9da936bc",
   "metadata": {},
   "outputs": [
    {
     "name": "stdout",
     "output_type": "stream",
     "text": [
      "Hello World! I am learning Python\n"
     ]
    }
   ],
   "source": [
    "print(\"Hello World!\",end = \" \")\n",
    "print(\"I am learning Python\")"
   ]
  },
  {
   "cell_type": "markdown",
   "id": "23386de9",
   "metadata": {},
   "source": [
    "#### 4: Write a program to print the following shape using only print statements:\n",
    "#### *\n",
    "#### * *\n",
    "#### * * *\n",
    "#### * * * *"
   ]
  },
  {
   "cell_type": "code",
   "execution_count": 6,
   "id": "50d7fd76",
   "metadata": {},
   "outputs": [
    {
     "name": "stdout",
     "output_type": "stream",
     "text": [
      "*\n",
      "* *\n",
      "* * *\n",
      "* * * *\n"
     ]
    }
   ],
   "source": [
    "print(\"*\")\n",
    "print(\"* *\")\n",
    "print(\"* * *\")\n",
    "print(\"* * * *\")"
   ]
  },
  {
   "cell_type": "markdown",
   "id": "2b7b23a5",
   "metadata": {},
   "source": [
    "### || Part B: Variables ||"
   ]
  },
  {
   "cell_type": "markdown",
   "id": "e0ae35cc",
   "metadata": {},
   "source": [
    "#### 1: Create variables name, age, and city. Print them in a single line as a meaningful sentence."
   ]
  },
  {
   "cell_type": "code",
   "execution_count": 8,
   "id": "8f7d9223",
   "metadata": {},
   "outputs": [
    {
     "name": "stdout",
     "output_type": "stream",
     "text": [
      "My name is Syed Anas Ahmed , I am 20 years old, and I live in Karachi.\n"
     ]
    }
   ],
   "source": [
    "name = \"Syed Anas Ahmed\"\n",
    "age = 20\n",
    "city = \"Karachi\"\n",
    "\n",
    "print(\"My name is\", name, \", I am\", age, \"years old, and I live in\", city + \".\")"
   ]
  },
  {
   "cell_type": "markdown",
   "id": "bcc7fb10",
   "metadata": {},
   "source": [
    "#### 2: Create two variables a = 10 and b = 20. Print their sum, difference, product, and division."
   ]
  },
  {
   "cell_type": "code",
   "execution_count": 9,
   "id": "633d49f6",
   "metadata": {},
   "outputs": [
    {
     "name": "stdout",
     "output_type": "stream",
     "text": [
      "30\n",
      "-10\n",
      "200\n",
      "0.5\n"
     ]
    }
   ],
   "source": [
    "a = 10\n",
    "b = 20\n",
    "print(a + b) # Sum\n",
    "print(a - b) # Difference\n",
    "print(a * b) # Product\n",
    "print(a / b) # Division"
   ]
  },
  {
   "cell_type": "markdown",
   "id": "d37e7de6",
   "metadata": {},
   "source": [
    "#### 3: Reassign a = 15 and b = 25. Print results again."
   ]
  },
  {
   "cell_type": "code",
   "execution_count": 10,
   "id": "0ebd90e5",
   "metadata": {},
   "outputs": [
    {
     "name": "stdout",
     "output_type": "stream",
     "text": [
      "40\n",
      "-10\n",
      "375\n",
      "0.6\n"
     ]
    }
   ],
   "source": [
    "a = 15\n",
    "b = 25\n",
    "print(a + b) # Sum\n",
    "print(a - b) # Difference\n",
    "print(a * b) # Product\n",
    "print(a / b) # Division"
   ]
  },
  {
   "cell_type": "markdown",
   "id": "2945d79a",
   "metadata": {},
   "source": [
    "#### 4: Create a variable pi = 3.14159. Print the area of a circle with radius r = 5."
   ]
  },
  {
   "cell_type": "code",
   "execution_count": 12,
   "id": "25c6c3d2",
   "metadata": {},
   "outputs": [
    {
     "name": "stdout",
     "output_type": "stream",
     "text": [
      "The area of the circle is: 78.53975\n"
     ]
    }
   ],
   "source": [
    "pi = 3.14159\n",
    "r = 5\n",
    "Area = pi * r * r  # Formula\n",
    "print(\"The area of the circle is:\",Area)"
   ]
  },
  {
   "cell_type": "markdown",
   "id": "363c2725",
   "metadata": {},
   "source": [
    "### || Bonus Challenge ||"
   ]
  },
  {
   "cell_type": "markdown",
   "id": "668e033b",
   "metadata": {},
   "source": [
    "#### 1: Swap two variables without using a third variable."
   ]
  },
  {
   "cell_type": "code",
   "execution_count": 16,
   "id": "f9d14510",
   "metadata": {},
   "outputs": [
    {
     "name": "stdout",
     "output_type": "stream",
     "text": [
      "a = 10\n",
      "b = 20\n",
      "--------\n",
      "a = 20\n",
      "b = 10\n"
     ]
    }
   ],
   "source": [
    "a = 10 \n",
    "b = 20\n",
    "print(\"a =\",a)\n",
    "print(\"b =\",b)\n",
    "a,b = b,a\n",
    "print(\"--------\")\n",
    "print(\"a =\",a)\n",
    "print(\"b =\",b)"
   ]
  }
 ],
 "metadata": {
  "kernelspec": {
   "display_name": "Python 3",
   "language": "python",
   "name": "python3"
  },
  "language_info": {
   "codemirror_mode": {
    "name": "ipython",
    "version": 3
   },
   "file_extension": ".py",
   "mimetype": "text/x-python",
   "name": "python",
   "nbconvert_exporter": "python",
   "pygments_lexer": "ipython3",
   "version": "3.13.5"
  }
 },
 "nbformat": 4,
 "nbformat_minor": 5
}
